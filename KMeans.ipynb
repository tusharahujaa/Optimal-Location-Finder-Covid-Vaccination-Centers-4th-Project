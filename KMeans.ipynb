{
  "nbformat": 4,
  "nbformat_minor": 0,
  "metadata": {
    "colab": {
      "name": "KMeans.ipynb",
      "provenance": [],
      "collapsed_sections": []
    },
    "kernelspec": {
      "name": "python3",
      "display_name": "Python 3"
    },
    "language_info": {
      "name": "python"
    }
  },
  "cells": [
    {
      "cell_type": "code",
      "execution_count": 2,
      "metadata": {
        "colab": {
          "base_uri": "https://localhost:8080/"
        },
        "id": "B1ePZc9NDK0O",
        "outputId": "eaf41444-0ecb-49da-c095-bcc0617d7a89"
      },
      "outputs": [
        {
          "output_type": "stream",
          "name": "stdout",
          "text": [
            "Mounted at /content/gdrive\n"
          ]
        }
      ],
      "source": [
        "from google.colab import drive\n",
        "drive.mount('/content/gdrive')"
      ]
    },
    {
      "cell_type": "code",
      "source": [
        "pip install opencage"
      ],
      "metadata": {
        "colab": {
          "base_uri": "https://localhost:8080/"
        },
        "id": "gBllt1LmaZU6",
        "outputId": "048e3b67-2151-4622-f844-dfe437d03e36"
      },
      "execution_count": 3,
      "outputs": [
        {
          "output_type": "stream",
          "name": "stdout",
          "text": [
            "Looking in indexes: https://pypi.org/simple, https://us-python.pkg.dev/colab-wheels/public/simple/\n",
            "Collecting opencage\n",
            "  Downloading opencage-2.0.0-py3-none-any.whl (13 kB)\n",
            "Collecting backoff>=1.10.0\n",
            "  Downloading backoff-2.1.2-py3-none-any.whl (14 kB)\n",
            "Collecting pyopenssl>=0.15.1\n",
            "  Downloading pyOpenSSL-22.0.0-py2.py3-none-any.whl (55 kB)\n",
            "\u001b[K     |████████████████████████████████| 55 kB 2.6 MB/s \n",
            "\u001b[?25hRequirement already satisfied: Requests>=2.2.0 in /usr/local/lib/python3.7/dist-packages (from opencage) (2.23.0)\n",
            "Collecting cryptography>=35.0\n",
            "  Downloading cryptography-37.0.2-cp36-abi3-manylinux_2_24_x86_64.whl (4.0 MB)\n",
            "\u001b[K     |████████████████████████████████| 4.0 MB 11.5 MB/s \n",
            "\u001b[?25hRequirement already satisfied: cffi>=1.12 in /usr/local/lib/python3.7/dist-packages (from cryptography>=35.0->pyopenssl>=0.15.1->opencage) (1.15.0)\n",
            "Requirement already satisfied: pycparser in /usr/local/lib/python3.7/dist-packages (from cffi>=1.12->cryptography>=35.0->pyopenssl>=0.15.1->opencage) (2.21)\n",
            "Requirement already satisfied: urllib3!=1.25.0,!=1.25.1,<1.26,>=1.21.1 in /usr/local/lib/python3.7/dist-packages (from Requests>=2.2.0->opencage) (1.24.3)\n",
            "Requirement already satisfied: certifi>=2017.4.17 in /usr/local/lib/python3.7/dist-packages (from Requests>=2.2.0->opencage) (2022.5.18.1)\n",
            "Requirement already satisfied: chardet<4,>=3.0.2 in /usr/local/lib/python3.7/dist-packages (from Requests>=2.2.0->opencage) (3.0.4)\n",
            "Requirement already satisfied: idna<3,>=2.5 in /usr/local/lib/python3.7/dist-packages (from Requests>=2.2.0->opencage) (2.10)\n",
            "Installing collected packages: cryptography, pyopenssl, backoff, opencage\n",
            "Successfully installed backoff-2.1.2 cryptography-37.0.2 opencage-2.0.0 pyopenssl-22.0.0\n"
          ]
        }
      ]
    },
    {
      "cell_type": "code",
      "source": [
        "pip install sklearn"
      ],
      "metadata": {
        "colab": {
          "base_uri": "https://localhost:8080/"
        },
        "id": "qeL287BZmSqy",
        "outputId": "5c36492f-16b7-4519-abef-4a96d997ea36"
      },
      "execution_count": 4,
      "outputs": [
        {
          "output_type": "stream",
          "name": "stdout",
          "text": [
            "Looking in indexes: https://pypi.org/simple, https://us-python.pkg.dev/colab-wheels/public/simple/\n",
            "Requirement already satisfied: sklearn in /usr/local/lib/python3.7/dist-packages (0.0)\n",
            "Requirement already satisfied: scikit-learn in /usr/local/lib/python3.7/dist-packages (from sklearn) (1.0.2)\n",
            "Requirement already satisfied: threadpoolctl>=2.0.0 in /usr/local/lib/python3.7/dist-packages (from scikit-learn->sklearn) (3.1.0)\n",
            "Requirement already satisfied: joblib>=0.11 in /usr/local/lib/python3.7/dist-packages (from scikit-learn->sklearn) (1.1.0)\n",
            "Requirement already satisfied: scipy>=1.1.0 in /usr/local/lib/python3.7/dist-packages (from scikit-learn->sklearn) (1.4.1)\n",
            "Requirement already satisfied: numpy>=1.14.6 in /usr/local/lib/python3.7/dist-packages (from scikit-learn->sklearn) (1.21.6)\n"
          ]
        }
      ]
    },
    {
      "cell_type": "code",
      "source": [
        "import pandas as pd\n",
        "from opencage.geocoder import OpenCageGeocode\n",
        "import folium\n",
        "from folium.plugins import FastMarkerCluster\n",
        "from sklearn.cluster import KMeans\n",
        "from sklearn.preprocessing import MinMaxScaler\n",
        "from matplotlib import pyplot as plt"
      ],
      "metadata": {
        "id": "3Dwz3crnaWfq"
      },
      "execution_count": 5,
      "outputs": []
    },
    {
      "cell_type": "code",
      "source": [
        "# Load the dataset into a pandas dataframe.\n",
        "df = pd.read_csv(\"/content/gdrive/MyDrive/COVIDcomp.csv\", delimiter=',')\n",
        "df_new=df\n",
        "# Report the number of sentences.\n",
        "print('Number of enteries: {:,}\\n'.format(df_new.shape[0]))\n",
        "\n",
        "# Display 10 random rows from the data.\n",
        "df_new.head()"
      ],
      "metadata": {
        "colab": {
          "base_uri": "https://localhost:8080/",
          "height": 241
        },
        "id": "RZDRrvizEvgT",
        "outputId": "68e8065e-080c-4375-81fa-61adb245551f"
      },
      "execution_count": 6,
      "outputs": [
        {
          "output_type": "stream",
          "name": "stdout",
          "text": [
            "Number of enteries: 463\n",
            "\n"
          ]
        },
        {
          "output_type": "execute_result",
          "data": {
            "text/plain": [
              "   S.NO                           Institution      District  COVID BEDS Total  \\\n",
              "0     1                          A.S Hospital      Ariyalur                30   \n",
              "1     2                       Golden Hospital      Ariyalur                31   \n",
              "2     3                   Annai Arul Hospital  Chengalpattu                40   \n",
              "3     4  Chennai Emergency care Centre Pammal  Chengalpattu                16   \n",
              "4     5                    Dr. Rela Institute  Chengalpattu               160   \n",
              "\n",
              "   COVID BEDS Occupied  latitudes  longitudes  \n",
              "0                   29  11.112990   79.075330  \n",
              "1                   30  11.141042   79.075387  \n",
              "2                   40  12.921027   80.088149  \n",
              "3                   16  12.973690   80.131118  \n",
              "4                  160  12.956058   80.141067  "
            ],
            "text/html": [
              "\n",
              "  <div id=\"df-18fd494b-a75a-4e40-abfd-78b6132f036d\">\n",
              "    <div class=\"colab-df-container\">\n",
              "      <div>\n",
              "<style scoped>\n",
              "    .dataframe tbody tr th:only-of-type {\n",
              "        vertical-align: middle;\n",
              "    }\n",
              "\n",
              "    .dataframe tbody tr th {\n",
              "        vertical-align: top;\n",
              "    }\n",
              "\n",
              "    .dataframe thead th {\n",
              "        text-align: right;\n",
              "    }\n",
              "</style>\n",
              "<table border=\"1\" class=\"dataframe\">\n",
              "  <thead>\n",
              "    <tr style=\"text-align: right;\">\n",
              "      <th></th>\n",
              "      <th>S.NO</th>\n",
              "      <th>Institution</th>\n",
              "      <th>District</th>\n",
              "      <th>COVID BEDS Total</th>\n",
              "      <th>COVID BEDS Occupied</th>\n",
              "      <th>latitudes</th>\n",
              "      <th>longitudes</th>\n",
              "    </tr>\n",
              "  </thead>\n",
              "  <tbody>\n",
              "    <tr>\n",
              "      <th>0</th>\n",
              "      <td>1</td>\n",
              "      <td>A.S Hospital</td>\n",
              "      <td>Ariyalur</td>\n",
              "      <td>30</td>\n",
              "      <td>29</td>\n",
              "      <td>11.112990</td>\n",
              "      <td>79.075330</td>\n",
              "    </tr>\n",
              "    <tr>\n",
              "      <th>1</th>\n",
              "      <td>2</td>\n",
              "      <td>Golden Hospital</td>\n",
              "      <td>Ariyalur</td>\n",
              "      <td>31</td>\n",
              "      <td>30</td>\n",
              "      <td>11.141042</td>\n",
              "      <td>79.075387</td>\n",
              "    </tr>\n",
              "    <tr>\n",
              "      <th>2</th>\n",
              "      <td>3</td>\n",
              "      <td>Annai Arul Hospital</td>\n",
              "      <td>Chengalpattu</td>\n",
              "      <td>40</td>\n",
              "      <td>40</td>\n",
              "      <td>12.921027</td>\n",
              "      <td>80.088149</td>\n",
              "    </tr>\n",
              "    <tr>\n",
              "      <th>3</th>\n",
              "      <td>4</td>\n",
              "      <td>Chennai Emergency care Centre Pammal</td>\n",
              "      <td>Chengalpattu</td>\n",
              "      <td>16</td>\n",
              "      <td>16</td>\n",
              "      <td>12.973690</td>\n",
              "      <td>80.131118</td>\n",
              "    </tr>\n",
              "    <tr>\n",
              "      <th>4</th>\n",
              "      <td>5</td>\n",
              "      <td>Dr. Rela Institute</td>\n",
              "      <td>Chengalpattu</td>\n",
              "      <td>160</td>\n",
              "      <td>160</td>\n",
              "      <td>12.956058</td>\n",
              "      <td>80.141067</td>\n",
              "    </tr>\n",
              "  </tbody>\n",
              "</table>\n",
              "</div>\n",
              "      <button class=\"colab-df-convert\" onclick=\"convertToInteractive('df-18fd494b-a75a-4e40-abfd-78b6132f036d')\"\n",
              "              title=\"Convert this dataframe to an interactive table.\"\n",
              "              style=\"display:none;\">\n",
              "        \n",
              "  <svg xmlns=\"http://www.w3.org/2000/svg\" height=\"24px\"viewBox=\"0 0 24 24\"\n",
              "       width=\"24px\">\n",
              "    <path d=\"M0 0h24v24H0V0z\" fill=\"none\"/>\n",
              "    <path d=\"M18.56 5.44l.94 2.06.94-2.06 2.06-.94-2.06-.94-.94-2.06-.94 2.06-2.06.94zm-11 1L8.5 8.5l.94-2.06 2.06-.94-2.06-.94L8.5 2.5l-.94 2.06-2.06.94zm10 10l.94 2.06.94-2.06 2.06-.94-2.06-.94-.94-2.06-.94 2.06-2.06.94z\"/><path d=\"M17.41 7.96l-1.37-1.37c-.4-.4-.92-.59-1.43-.59-.52 0-1.04.2-1.43.59L10.3 9.45l-7.72 7.72c-.78.78-.78 2.05 0 2.83L4 21.41c.39.39.9.59 1.41.59.51 0 1.02-.2 1.41-.59l7.78-7.78 2.81-2.81c.8-.78.8-2.07 0-2.86zM5.41 20L4 18.59l7.72-7.72 1.47 1.35L5.41 20z\"/>\n",
              "  </svg>\n",
              "      </button>\n",
              "      \n",
              "  <style>\n",
              "    .colab-df-container {\n",
              "      display:flex;\n",
              "      flex-wrap:wrap;\n",
              "      gap: 12px;\n",
              "    }\n",
              "\n",
              "    .colab-df-convert {\n",
              "      background-color: #E8F0FE;\n",
              "      border: none;\n",
              "      border-radius: 50%;\n",
              "      cursor: pointer;\n",
              "      display: none;\n",
              "      fill: #1967D2;\n",
              "      height: 32px;\n",
              "      padding: 0 0 0 0;\n",
              "      width: 32px;\n",
              "    }\n",
              "\n",
              "    .colab-df-convert:hover {\n",
              "      background-color: #E2EBFA;\n",
              "      box-shadow: 0px 1px 2px rgba(60, 64, 67, 0.3), 0px 1px 3px 1px rgba(60, 64, 67, 0.15);\n",
              "      fill: #174EA6;\n",
              "    }\n",
              "\n",
              "    [theme=dark] .colab-df-convert {\n",
              "      background-color: #3B4455;\n",
              "      fill: #D2E3FC;\n",
              "    }\n",
              "\n",
              "    [theme=dark] .colab-df-convert:hover {\n",
              "      background-color: #434B5C;\n",
              "      box-shadow: 0px 1px 3px 1px rgba(0, 0, 0, 0.15);\n",
              "      filter: drop-shadow(0px 1px 2px rgba(0, 0, 0, 0.3));\n",
              "      fill: #FFFFFF;\n",
              "    }\n",
              "  </style>\n",
              "\n",
              "      <script>\n",
              "        const buttonEl =\n",
              "          document.querySelector('#df-18fd494b-a75a-4e40-abfd-78b6132f036d button.colab-df-convert');\n",
              "        buttonEl.style.display =\n",
              "          google.colab.kernel.accessAllowed ? 'block' : 'none';\n",
              "\n",
              "        async function convertToInteractive(key) {\n",
              "          const element = document.querySelector('#df-18fd494b-a75a-4e40-abfd-78b6132f036d');\n",
              "          const dataTable =\n",
              "            await google.colab.kernel.invokeFunction('convertToInteractive',\n",
              "                                                     [key], {});\n",
              "          if (!dataTable) return;\n",
              "\n",
              "          const docLinkHtml = 'Like what you see? Visit the ' +\n",
              "            '<a target=\"_blank\" href=https://colab.research.google.com/notebooks/data_table.ipynb>data table notebook</a>'\n",
              "            + ' to learn more about interactive tables.';\n",
              "          element.innerHTML = '';\n",
              "          dataTable['output_type'] = 'display_data';\n",
              "          await google.colab.output.renderOutput(dataTable, element);\n",
              "          const docLink = document.createElement('div');\n",
              "          docLink.innerHTML = docLinkHtml;\n",
              "          element.appendChild(docLink);\n",
              "        }\n",
              "      </script>\n",
              "    </div>\n",
              "  </div>\n",
              "  "
            ]
          },
          "metadata": {},
          "execution_count": 6
        }
      ]
    },
    {
      "cell_type": "code",
      "source": [
        "def nans(df): return df[df.isnull().any(axis=1)]"
      ],
      "metadata": {
        "id": "JQHkwlrmYHB3"
      },
      "execution_count": 7,
      "outputs": []
    },
    {
      "cell_type": "code",
      "source": [
        "nans(df_new)"
      ],
      "metadata": {
        "colab": {
          "base_uri": "https://localhost:8080/",
          "height": 49
        },
        "id": "EFuUDMhYYiLv",
        "outputId": "07305a03-11e6-4e2f-b438-8f3335468261"
      },
      "execution_count": 8,
      "outputs": [
        {
          "output_type": "execute_result",
          "data": {
            "text/plain": [
              "Empty DataFrame\n",
              "Columns: [S.NO, Institution, District, COVID BEDS Total, COVID BEDS Occupied, latitudes, longitudes]\n",
              "Index: []"
            ],
            "text/html": [
              "\n",
              "  <div id=\"df-311fd0c3-f05b-4674-898d-559c7a7a4ec7\">\n",
              "    <div class=\"colab-df-container\">\n",
              "      <div>\n",
              "<style scoped>\n",
              "    .dataframe tbody tr th:only-of-type {\n",
              "        vertical-align: middle;\n",
              "    }\n",
              "\n",
              "    .dataframe tbody tr th {\n",
              "        vertical-align: top;\n",
              "    }\n",
              "\n",
              "    .dataframe thead th {\n",
              "        text-align: right;\n",
              "    }\n",
              "</style>\n",
              "<table border=\"1\" class=\"dataframe\">\n",
              "  <thead>\n",
              "    <tr style=\"text-align: right;\">\n",
              "      <th></th>\n",
              "      <th>S.NO</th>\n",
              "      <th>Institution</th>\n",
              "      <th>District</th>\n",
              "      <th>COVID BEDS Total</th>\n",
              "      <th>COVID BEDS Occupied</th>\n",
              "      <th>latitudes</th>\n",
              "      <th>longitudes</th>\n",
              "    </tr>\n",
              "  </thead>\n",
              "  <tbody>\n",
              "  </tbody>\n",
              "</table>\n",
              "</div>\n",
              "      <button class=\"colab-df-convert\" onclick=\"convertToInteractive('df-311fd0c3-f05b-4674-898d-559c7a7a4ec7')\"\n",
              "              title=\"Convert this dataframe to an interactive table.\"\n",
              "              style=\"display:none;\">\n",
              "        \n",
              "  <svg xmlns=\"http://www.w3.org/2000/svg\" height=\"24px\"viewBox=\"0 0 24 24\"\n",
              "       width=\"24px\">\n",
              "    <path d=\"M0 0h24v24H0V0z\" fill=\"none\"/>\n",
              "    <path d=\"M18.56 5.44l.94 2.06.94-2.06 2.06-.94-2.06-.94-.94-2.06-.94 2.06-2.06.94zm-11 1L8.5 8.5l.94-2.06 2.06-.94-2.06-.94L8.5 2.5l-.94 2.06-2.06.94zm10 10l.94 2.06.94-2.06 2.06-.94-2.06-.94-.94-2.06-.94 2.06-2.06.94z\"/><path d=\"M17.41 7.96l-1.37-1.37c-.4-.4-.92-.59-1.43-.59-.52 0-1.04.2-1.43.59L10.3 9.45l-7.72 7.72c-.78.78-.78 2.05 0 2.83L4 21.41c.39.39.9.59 1.41.59.51 0 1.02-.2 1.41-.59l7.78-7.78 2.81-2.81c.8-.78.8-2.07 0-2.86zM5.41 20L4 18.59l7.72-7.72 1.47 1.35L5.41 20z\"/>\n",
              "  </svg>\n",
              "      </button>\n",
              "      \n",
              "  <style>\n",
              "    .colab-df-container {\n",
              "      display:flex;\n",
              "      flex-wrap:wrap;\n",
              "      gap: 12px;\n",
              "    }\n",
              "\n",
              "    .colab-df-convert {\n",
              "      background-color: #E8F0FE;\n",
              "      border: none;\n",
              "      border-radius: 50%;\n",
              "      cursor: pointer;\n",
              "      display: none;\n",
              "      fill: #1967D2;\n",
              "      height: 32px;\n",
              "      padding: 0 0 0 0;\n",
              "      width: 32px;\n",
              "    }\n",
              "\n",
              "    .colab-df-convert:hover {\n",
              "      background-color: #E2EBFA;\n",
              "      box-shadow: 0px 1px 2px rgba(60, 64, 67, 0.3), 0px 1px 3px 1px rgba(60, 64, 67, 0.15);\n",
              "      fill: #174EA6;\n",
              "    }\n",
              "\n",
              "    [theme=dark] .colab-df-convert {\n",
              "      background-color: #3B4455;\n",
              "      fill: #D2E3FC;\n",
              "    }\n",
              "\n",
              "    [theme=dark] .colab-df-convert:hover {\n",
              "      background-color: #434B5C;\n",
              "      box-shadow: 0px 1px 3px 1px rgba(0, 0, 0, 0.15);\n",
              "      filter: drop-shadow(0px 1px 2px rgba(0, 0, 0, 0.3));\n",
              "      fill: #FFFFFF;\n",
              "    }\n",
              "  </style>\n",
              "\n",
              "      <script>\n",
              "        const buttonEl =\n",
              "          document.querySelector('#df-311fd0c3-f05b-4674-898d-559c7a7a4ec7 button.colab-df-convert');\n",
              "        buttonEl.style.display =\n",
              "          google.colab.kernel.accessAllowed ? 'block' : 'none';\n",
              "\n",
              "        async function convertToInteractive(key) {\n",
              "          const element = document.querySelector('#df-311fd0c3-f05b-4674-898d-559c7a7a4ec7');\n",
              "          const dataTable =\n",
              "            await google.colab.kernel.invokeFunction('convertToInteractive',\n",
              "                                                     [key], {});\n",
              "          if (!dataTable) return;\n",
              "\n",
              "          const docLinkHtml = 'Like what you see? Visit the ' +\n",
              "            '<a target=\"_blank\" href=https://colab.research.google.com/notebooks/data_table.ipynb>data table notebook</a>'\n",
              "            + ' to learn more about interactive tables.';\n",
              "          element.innerHTML = '';\n",
              "          dataTable['output_type'] = 'display_data';\n",
              "          await google.colab.output.renderOutput(dataTable, element);\n",
              "          const docLink = document.createElement('div');\n",
              "          docLink.innerHTML = docLinkHtml;\n",
              "          element.appendChild(docLink);\n",
              "        }\n",
              "      </script>\n",
              "    </div>\n",
              "  </div>\n",
              "  "
            ]
          },
          "metadata": {},
          "execution_count": 8
        }
      ]
    },
    {
      "cell_type": "code",
      "source": [
        "dfn=df_new\n",
        "covidsum=dfn['COVID BEDS Occupied'].sum()\n",
        "avg=covidsum/463"
      ],
      "metadata": {
        "id": "VYnP2G_aZ4Gt"
      },
      "execution_count": 10,
      "outputs": []
    },
    {
      "cell_type": "code",
      "source": [
        "print(covidsum) #Total Covid Cases\n",
        "print(avg) #Average no. of cases per hospital"
      ],
      "metadata": {
        "colab": {
          "base_uri": "https://localhost:8080/"
        },
        "id": "0yh3aHldoJS6",
        "outputId": "15d02ff6-fb51-478f-ab29-ca1088ca4753"
      },
      "execution_count": null,
      "outputs": [
        {
          "output_type": "stream",
          "name": "stdout",
          "text": [
            "21722\n",
            "46.915766738660906\n"
          ]
        }
      ]
    },
    {
      "cell_type": "code",
      "source": [
        "lat=dfn['latitudes'].to_list()\n",
        "lon=dfn['longitudes'].to_list()"
      ],
      "metadata": {
        "id": "DoQavuGfZwQ7"
      },
      "execution_count": 12,
      "outputs": []
    },
    {
      "cell_type": "code",
      "source": [
        "m = folium.Map([11.41644605351662,78.73045144938763],tiles='OpenStreetMap',zoom_start=6)\n",
        "locations = list(zip(dfn.latitudes, dfn.longitudes))\n",
        "folium.plugins.MarkerCluster(locations=locations,                     \n",
        "               popups=dfn['Institution'].tolist()).add_to(m)  \n",
        "display(m)\n",
        "#Map is displayed in images directory"
      ],
      "metadata": {
        "id": "3mhmAov_rTKV"
      },
      "execution_count": null,
      "outputs": []
    },
    {
      "cell_type": "code",
      "source": [
        "m= folium.Map(\n",
        "    location=[11.41644605351662, 78.73045144938763],\n",
        "    zoom_start=7.5,tiles='OpenStreetMap')\n",
        "folium.LayerControl().add_to(m)\n",
        "\n",
        "for row in dfn.iterrows():\n",
        "    row=row[1]\n",
        "    folium.CircleMarker(location=(row[\"latitudes\"],\n",
        "                                  row[\"longitudes\"]),\n",
        "                        radius= row['COVID BEDS Occupied']/avg,\n",
        "                        color=\"#FF0000\",\n",
        "                        popup=row['Institution'],\n",
        "                        fill=True).add_to(m)\n",
        "\n",
        "display(m)\n",
        "#Map is displayed in images directory"
      ],
      "metadata": {
        "id": "9IT7A105aD9Z"
      },
      "execution_count": null,
      "outputs": []
    },
    {
      "cell_type": "markdown",
      "source": [
        "ELBOW METHOD"
      ],
      "metadata": {
        "id": "l3xOpH7K4_HD"
      }
    },
    {
      "cell_type": "code",
      "source": [
        "sse = []\n",
        "k_rng = range(25,100)\n",
        "for k in k_rng:\n",
        "    km = KMeans(n_clusters=k)\n",
        "    km.fit(dfn[['latitudes','longitudes']])\n",
        "    sse.append(km.inertia_)"
      ],
      "metadata": {
        "id": "3lvtOKztTBWR"
      },
      "execution_count": 15,
      "outputs": []
    },
    {
      "cell_type": "code",
      "source": [
        "plt.xlabel('K')\n",
        "plt.ylabel('Sum of squared error')\n",
        "plt.scatter(k_rng,sse,marker = '.' )\n",
        "plt.annotate(\"X\", (39, 2.3),color = 'r' )\n",
        "plt.plot([40,40],[2,-0.5],color='green', linestyle='dashed', linewidth=2)"
      ],
      "metadata": {
        "colab": {
          "base_uri": "https://localhost:8080/",
          "height": 296
        },
        "id": "Za-vFJuaTJ2M",
        "outputId": "c0cc7812-09e5-4494-820c-57d1f0f3de3a"
      },
      "execution_count": 16,
      "outputs": [
        {
          "output_type": "execute_result",
          "data": {
            "text/plain": [
              "[<matplotlib.lines.Line2D at 0x7fe53aa14e10>]"
            ]
          },
          "metadata": {},
          "execution_count": 16
        },
        {
          "output_type": "display_data",
          "data": {
            "text/plain": [
              "<Figure size 432x288 with 1 Axes>"
            ],
            "image/png": "[encoded data removed]"
          },
          "metadata": {
            "needs_background": "light"
          }
        }
      ]
    },
    {
      "cell_type": "markdown",
      "source": [
        "SILHOUETTE ANALYSIS"
      ],
      "metadata": {
        "id": "aEVPUQ-d5tiz"
      }
    },
    {
      "cell_type": "code",
      "source": [
        "from sklearn.metrics import silhouette_score\n",
        "range_n_clusters=[]\n",
        "for i in range(25,100):\n",
        "  range_n_clusters.append(i)\n"
      ],
      "metadata": {
        "id": "sa4qQ4Cjnzu4"
      },
      "execution_count": 17,
      "outputs": []
    },
    {
      "cell_type": "code",
      "source": [
        "silhouette_avg = []\n",
        "for num_clusters in range_n_clusters:\n",
        " \n",
        " # initialise kmeans\n",
        " kmeans = KMeans(n_clusters=num_clusters)\n",
        " kmeans.fit(dfn[['latitudes','longitudes']])\n",
        " cluster_labels = kmeans.labels_\n",
        " \n",
        " # silhouette score\n",
        " silhouette_avg.append(silhouette_score(dfn[['latitudes','longitudes']], cluster_labels))\n",
        " if(silhouette_score(dfn[['latitudes','longitudes']], cluster_labels)>m1):\n",
        "   m1=silhouette_score(dfn[['latitudes','longitudes']], cluster_labels)\n",
        "   m2=cluster_labels\n",
        "plt.plot(range_n_clusters,silhouette_avg,'bx-')\n",
        "plt.xlabel('Values of K') \n",
        "plt.ylabel('Silhouette score') \n",
        "plt.title('Silhouette analysis For Optimal k')\n",
        "plt.show()"
      ],
      "metadata": {
        "colab": {
          "base_uri": "https://localhost:8080/",
          "height": 295
        },
        "id": "-17VUwSqlTsG",
        "outputId": "2b2905c9-cc14-4062-db6f-ef1d7873ed35"
      },
      "execution_count": 31,
      "outputs": [
        {
          "output_type": "display_data",
          "data": {
            "text/plain": [
              "<Figure size 432x288 with 1 Axes>"
            ],
            "image/png": "[encoded data removed]"
          },
          "metadata": {
            "needs_background": "light"
          }
        }
      ]
    },
    {
      "cell_type": "code",
      "source": [
        "km = KMeans(n_clusters=40)\n",
        "y_predicted = km.fit_predict(dfn[['latitudes','longitudes']])"
      ],
      "metadata": {
        "id": "Ggl0TxcMl0q-"
      },
      "execution_count": 32,
      "outputs": []
    },
    {
      "cell_type": "code",
      "source": [
        "dfn['cluster']=y_predicted\n",
        "dfn"
      ],
      "metadata": {
        "colab": {
          "base_uri": "https://localhost:8080/",
          "height": 424
        },
        "id": "gqqTajDPmc90",
        "outputId": "cf36f325-deeb-4067-f888-050fc4bd60a4"
      },
      "execution_count": 33,
      "outputs": [
        {
          "output_type": "execute_result",
          "data": {
            "text/plain": [
              "     S.NO                                  Institution      District  \\\n",
              "0       1                                 A.S Hospital      Ariyalur   \n",
              "1       2                              Golden Hospital      Ariyalur   \n",
              "2       3                          Annai Arul Hospital  Chengalpattu   \n",
              "3       4         Chennai Emergency care Centre Pammal  Chengalpattu   \n",
              "4       5                           Dr. Rela Institute  Chengalpattu   \n",
              "..    ...                                          ...           ...   \n",
              "458   459           Trustlife Medical Centre, Panaiyur       Chennai   \n",
              "459   460             Vasantha Hospital, Thiruvottiyur       Chennai   \n",
              "460   461           Vijayakumar Hospital,Swamiyarmadam   Kanyakumari   \n",
              "461   462           Singhvi Health Center, Mint Street       Chennai   \n",
              "462   463  Hannah Joseph Hospital Pvt Ltd, Chinthamani       Madurai   \n",
              "\n",
              "     COVID BEDS Total  COVID BEDS Occupied  latitudes  longitudes  cluster  \n",
              "0                  30                   29  11.112990   79.075330        4  \n",
              "1                  31                   30  11.141042   79.075387        4  \n",
              "2                  40                   40  12.921027   80.088149       25  \n",
              "3                  16                   16  12.973690   80.131118       25  \n",
              "4                 160                  160  12.956058   80.141067       25  \n",
              "..                ...                  ...        ...         ...      ...  \n",
              "458                20                   16  12.889022   80.246462       25  \n",
              "459                10                    9  13.173934   80.294032        1  \n",
              "460                22                   22   8.287601   77.269206        2  \n",
              "461                15                   15  13.093720   80.279634        1  \n",
              "462                75                   68   9.877585   78.136615        3  \n",
              "\n",
              "[463 rows x 8 columns]"
            ],
            "text/html": [
              "\n",
              "  <div id=\"df-1ce48acf-d16d-4d9b-a4b7-7d9e0840831f\">\n",
              "    <div class=\"colab-df-container\">\n",
              "      <div>\n",
              "<style scoped>\n",
              "    .dataframe tbody tr th:only-of-type {\n",
              "        vertical-align: middle;\n",
              "    }\n",
              "\n",
              "    .dataframe tbody tr th {\n",
              "        vertical-align: top;\n",
              "    }\n",
              "\n",
              "    .dataframe thead th {\n",
              "        text-align: right;\n",
              "    }\n",
              "</style>\n",
              "<table border=\"1\" class=\"dataframe\">\n",
              "  <thead>\n",
              "    <tr style=\"text-align: right;\">\n",
              "      <th></th>\n",
              "      <th>S.NO</th>\n",
              "      <th>Institution</th>\n",
              "      <th>District</th>\n",
              "      <th>COVID BEDS Total</th>\n",
              "      <th>COVID BEDS Occupied</th>\n",
              "      <th>latitudes</th>\n",
              "      <th>longitudes</th>\n",
              "      <th>cluster</th>\n",
              "    </tr>\n",
              "  </thead>\n",
              "  <tbody>\n",
              "    <tr>\n",
              "      <th>0</th>\n",
              "      <td>1</td>\n",
              "      <td>A.S Hospital</td>\n",
              "      <td>Ariyalur</td>\n",
              "      <td>30</td>\n",
              "      <td>29</td>\n",
              "      <td>11.112990</td>\n",
              "      <td>79.075330</td>\n",
              "      <td>4</td>\n",
              "    </tr>\n",
              "    <tr>\n",
              "      <th>1</th>\n",
              "      <td>2</td>\n",
              "      <td>Golden Hospital</td>\n",
              "      <td>Ariyalur</td>\n",
              "      <td>31</td>\n",
              "      <td>30</td>\n",
              "      <td>11.141042</td>\n",
              "      <td>79.075387</td>\n",
              "      <td>4</td>\n",
              "    </tr>\n",
              "    <tr>\n",
              "      <th>2</th>\n",
              "      <td>3</td>\n",
              "      <td>Annai Arul Hospital</td>\n",
              "      <td>Chengalpattu</td>\n",
              "      <td>40</td>\n",
              "      <td>40</td>\n",
              "      <td>12.921027</td>\n",
              "      <td>80.088149</td>\n",
              "      <td>25</td>\n",
              "    </tr>\n",
              "    <tr>\n",
              "      <th>3</th>\n",
              "      <td>4</td>\n",
              "      <td>Chennai Emergency care Centre Pammal</td>\n",
              "      <td>Chengalpattu</td>\n",
              "      <td>16</td>\n",
              "      <td>16</td>\n",
              "      <td>12.973690</td>\n",
              "      <td>80.131118</td>\n",
              "      <td>25</td>\n",
              "    </tr>\n",
              "    <tr>\n",
              "      <th>4</th>\n",
              "      <td>5</td>\n",
              "      <td>Dr. Rela Institute</td>\n",
              "      <td>Chengalpattu</td>\n",
              "      <td>160</td>\n",
              "      <td>160</td>\n",
              "      <td>12.956058</td>\n",
              "      <td>80.141067</td>\n",
              "      <td>25</td>\n",
              "    </tr>\n",
              "    <tr>\n",
              "      <th>...</th>\n",
              "      <td>...</td>\n",
              "      <td>...</td>\n",
              "      <td>...</td>\n",
              "      <td>...</td>\n",
              "      <td>...</td>\n",
              "      <td>...</td>\n",
              "      <td>...</td>\n",
              "      <td>...</td>\n",
              "    </tr>\n",
              "    <tr>\n",
              "      <th>458</th>\n",
              "      <td>459</td>\n",
              "      <td>Trustlife Medical Centre, Panaiyur</td>\n",
              "      <td>Chennai</td>\n",
              "      <td>20</td>\n",
              "      <td>16</td>\n",
              "      <td>12.889022</td>\n",
              "      <td>80.246462</td>\n",
              "      <td>25</td>\n",
              "    </tr>\n",
              "    <tr>\n",
              "      <th>459</th>\n",
              "      <td>460</td>\n",
              "      <td>Vasantha Hospital, Thiruvottiyur</td>\n",
              "      <td>Chennai</td>\n",
              "      <td>10</td>\n",
              "      <td>9</td>\n",
              "      <td>13.173934</td>\n",
              "      <td>80.294032</td>\n",
              "      <td>1</td>\n",
              "    </tr>\n",
              "    <tr>\n",
              "      <th>460</th>\n",
              "      <td>461</td>\n",
              "      <td>Vijayakumar Hospital,Swamiyarmadam</td>\n",
              "      <td>Kanyakumari</td>\n",
              "      <td>22</td>\n",
              "      <td>22</td>\n",
              "      <td>8.287601</td>\n",
              "      <td>77.269206</td>\n",
              "      <td>2</td>\n",
              "    </tr>\n",
              "    <tr>\n",
              "      <th>461</th>\n",
              "      <td>462</td>\n",
              "      <td>Singhvi Health Center, Mint Street</td>\n",
              "      <td>Chennai</td>\n",
              "      <td>15</td>\n",
              "      <td>15</td>\n",
              "      <td>13.093720</td>\n",
              "      <td>80.279634</td>\n",
              "      <td>1</td>\n",
              "    </tr>\n",
              "    <tr>\n",
              "      <th>462</th>\n",
              "      <td>463</td>\n",
              "      <td>Hannah Joseph Hospital Pvt Ltd, Chinthamani</td>\n",
              "      <td>Madurai</td>\n",
              "      <td>75</td>\n",
              "      <td>68</td>\n",
              "      <td>9.877585</td>\n",
              "      <td>78.136615</td>\n",
              "      <td>3</td>\n",
              "    </tr>\n",
              "  </tbody>\n",
              "</table>\n",
              "<p>463 rows × 8 columns</p>\n",
              "</div>\n",
              "      <button class=\"colab-df-convert\" onclick=\"convertToInteractive('df-1ce48acf-d16d-4d9b-a4b7-7d9e0840831f')\"\n",
              "              title=\"Convert this dataframe to an interactive table.\"\n",
              "              style=\"display:none;\">\n",
              "        \n",
              "  <svg xmlns=\"http://www.w3.org/2000/svg\" height=\"24px\"viewBox=\"0 0 24 24\"\n",
              "       width=\"24px\">\n",
              "    <path d=\"M0 0h24v24H0V0z\" fill=\"none\"/>\n",
              "    <path d=\"M18.56 5.44l.94 2.06.94-2.06 2.06-.94-2.06-.94-.94-2.06-.94 2.06-2.06.94zm-11 1L8.5 8.5l.94-2.06 2.06-.94-2.06-.94L8.5 2.5l-.94 2.06-2.06.94zm10 10l.94 2.06.94-2.06 2.06-.94-2.06-.94-.94-2.06-.94 2.06-2.06.94z\"/><path d=\"M17.41 7.96l-1.37-1.37c-.4-.4-.92-.59-1.43-.59-.52 0-1.04.2-1.43.59L10.3 9.45l-7.72 7.72c-.78.78-.78 2.05 0 2.83L4 21.41c.39.39.9.59 1.41.59.51 0 1.02-.2 1.41-.59l7.78-7.78 2.81-2.81c.8-.78.8-2.07 0-2.86zM5.41 20L4 18.59l7.72-7.72 1.47 1.35L5.41 20z\"/>\n",
              "  </svg>\n",
              "      </button>\n",
              "      \n",
              "  <style>\n",
              "    .colab-df-container {\n",
              "      display:flex;\n",
              "      flex-wrap:wrap;\n",
              "      gap: 12px;\n",
              "    }\n",
              "\n",
              "    .colab-df-convert {\n",
              "      background-color: #E8F0FE;\n",
              "      border: none;\n",
              "      border-radius: 50%;\n",
              "      cursor: pointer;\n",
              "      display: none;\n",
              "      fill: #1967D2;\n",
              "      height: 32px;\n",
              "      padding: 0 0 0 0;\n",
              "      width: 32px;\n",
              "    }\n",
              "\n",
              "    .colab-df-convert:hover {\n",
              "      background-color: #E2EBFA;\n",
              "      box-shadow: 0px 1px 2px rgba(60, 64, 67, 0.3), 0px 1px 3px 1px rgba(60, 64, 67, 0.15);\n",
              "      fill: #174EA6;\n",
              "    }\n",
              "\n",
              "    [theme=dark] .colab-df-convert {\n",
              "      background-color: #3B4455;\n",
              "      fill: #D2E3FC;\n",
              "    }\n",
              "\n",
              "    [theme=dark] .colab-df-convert:hover {\n",
              "      background-color: #434B5C;\n",
              "      box-shadow: 0px 1px 3px 1px rgba(0, 0, 0, 0.15);\n",
              "      filter: drop-shadow(0px 1px 2px rgba(0, 0, 0, 0.3));\n",
              "      fill: #FFFFFF;\n",
              "    }\n",
              "  </style>\n",
              "\n",
              "      <script>\n",
              "        const buttonEl =\n",
              "          document.querySelector('#df-1ce48acf-d16d-4d9b-a4b7-7d9e0840831f button.colab-df-convert');\n",
              "        buttonEl.style.display =\n",
              "          google.colab.kernel.accessAllowed ? 'block' : 'none';\n",
              "\n",
              "        async function convertToInteractive(key) {\n",
              "          const element = document.querySelector('#df-1ce48acf-d16d-4d9b-a4b7-7d9e0840831f');\n",
              "          const dataTable =\n",
              "            await google.colab.kernel.invokeFunction('convertToInteractive',\n",
              "                                                     [key], {});\n",
              "          if (!dataTable) return;\n",
              "\n",
              "          const docLinkHtml = 'Like what you see? Visit the ' +\n",
              "            '<a target=\"_blank\" href=https://colab.research.google.com/notebooks/data_table.ipynb>data table notebook</a>'\n",
              "            + ' to learn more about interactive tables.';\n",
              "          element.innerHTML = '';\n",
              "          dataTable['output_type'] = 'display_data';\n",
              "          await google.colab.output.renderOutput(dataTable, element);\n",
              "          const docLink = document.createElement('div');\n",
              "          docLink.innerHTML = docLinkHtml;\n",
              "          element.appendChild(docLink);\n",
              "        }\n",
              "      </script>\n",
              "    </div>\n",
              "  </div>\n",
              "  "
            ]
          },
          "metadata": {},
          "execution_count": 33
        }
      ]
    },
    {
      "cell_type": "code",
      "source": [
        "centroids=km.cluster_centers_.tolist()"
      ],
      "metadata": {
        "id": "xHoe6kwkm-tK"
      },
      "execution_count": 35,
      "outputs": []
    },
    {
      "cell_type": "code",
      "source": [
        "from geopy.geocoders import Nominatim\n",
        "geolocator = Nominatim(user_agent=\"http\")\n",
        "addr=[]\n",
        "for i in range(len(centroids)):\n",
        "  s=str(centroids[i][0])+ ','+str(centroids[i][1])\n",
        "  location = geolocator.reverse(s)\n",
        "  addr.append(location.address)"
      ],
      "metadata": {
        "id": "yior3aZ_L_e8"
      },
      "execution_count": 37,
      "outputs": []
    },
    {
      "cell_type": "markdown",
      "source": [
        "OPTIMAL LOCATION OF VACCINATION CENTERS ARE REPRESENTED BY GREEN MARKERS"
      ],
      "metadata": {
        "id": "PhUs_Gd_jQ9t"
      }
    },
    {
      "cell_type": "code",
      "source": [
        "icon_create_function = \"\"\"\\\n",
        "function(cluster) {\n",
        "    return L.divIcon({\n",
        "    html: '<center><b>'+cluster.getChildCount()+'</b></center>',\n",
        "    className:'marker-cluster marker-cluster-large',\n",
        "    iconSize:new L.Point(35, 35)\n",
        "    });\n",
        "}\"\"\""
      ],
      "metadata": {
        "id": "iJhzzZMVaQjw"
      },
      "execution_count": 40,
      "outputs": []
    },
    {
      "cell_type": "code",
      "source": [
        "m3 = folium.Map([11.41644605351662,78.73045144938763],tiles='OpenStreetMap',zoom_start=6)\n",
        "locations = list(zip(dfn.latitudes, dfn.longitudes))\n",
        "folium.plugins.MarkerCluster(locations=locations,                     \n",
        "               popups=dfn['Institution'].tolist(),icon_create_function=icon_create_function).add_to(m3)\n",
        "for i in range(len(centroids)):\n",
        "    folium.Marker(centroids[i], popup = addr[i], icon=folium.Icon(color='green', icon_color='white', icon='plus')).add_to(m3)\n",
        "display(m3)\n",
        "#Map is displayed in images directory"
      ],
      "metadata": {
        "id": "Hw5jX-48LRgy"
      },
      "execution_count": null,
      "outputs": []
    },
    {
      "cell_type": "code",
      "source": [
        "m2= folium.Map(\n",
        "    location=[11.41644605351662, 78.73045144938763],\n",
        "    zoom_start=9,tiles='OpenStreetMap')\n",
        "folium.LayerControl().add_to(m2)\n",
        "for row in dfn.iterrows():\n",
        "    row=row[1]\n",
        "    folium.CircleMarker(location=(row[\"latitudes\"],\n",
        "                                  row[\"longitudes\"]),\n",
        "                        radius= 2*row['COVID BEDS Occupied']/avg,\n",
        "                        color=\"#FF0000\",\n",
        "                        popup=row['Institution'],\n",
        "                        fill=True).add_to(m2)\n",
        "for i in range(len(centroids)):\n",
        "    folium.Marker(centroids[i], popup = addr[i], icon=folium.Icon(color='green', icon_color='white', icon='plus')).add_to(m2)\n",
        "    \n",
        "folium.LayerControl().add_to(m2)\n",
        "m2\n",
        "#Map is displayed in images directory"
      ],
      "metadata": {
        "id": "PXcU9609oOHX"
      },
      "execution_count": null,
      "outputs": []
    }
  ]
}